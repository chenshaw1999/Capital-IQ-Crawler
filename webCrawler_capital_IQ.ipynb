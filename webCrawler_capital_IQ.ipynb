{
 "cells": [
  {
   "cell_type": "code",
   "execution_count": null,
   "metadata": {},
   "outputs": [],
   "source": [
    "from selenium import webdriver\n",
    "from bs4 import BeautifulSoup\n",
    "\n",
    "import time\n",
    "import os\n",
    "\n",
    "import pandas as pd\n",
    "\n",
    "import xlwings as xw"
   ]
  },
  {
   "cell_type": "code",
   "execution_count": null,
   "metadata": {},
   "outputs": [],
   "source": [
    "company_list = pd.read_excel(\"Company Screening Report_aus.xls\")"
   ]
  },
  {
   "cell_type": "code",
   "execution_count": null,
   "metadata": {
    "scrolled": true
   },
   "outputs": [],
   "source": [
    "company_list.head()"
   ]
  },
  {
   "cell_type": "code",
   "execution_count": null,
   "metadata": {},
   "outputs": [],
   "source": [
    "transcripts_Summary_href = \"https://www.capitaliq.com/CIQDotNet/Transcripts/Summary.aspx\""
   ]
  },
  {
   "cell_type": "code",
   "execution_count": null,
   "metadata": {},
   "outputs": [],
   "source": [
    "def getBrowser(username=None, password=None):\n",
    "    # start web browser\n",
    "    browser=webdriver.Chrome()\n",
    "    browser.get(transcripts_Summary_href)\n",
    "\n",
    "    browser.find_element_by_xpath('//*[@id=\"username\"]').send_keys(username)\n",
    "    browser.find_element_by_xpath('//*[@id=\"password\"]').send_keys(password)\n",
    "    browser.find_element_by_xpath('//*[@id=\"myLoginButton\"]').click()\n",
    "    \n",
    "    return browser"
   ]
  },
  {
   "cell_type": "code",
   "execution_count": null,
   "metadata": {},
   "outputs": [],
   "source": [
    "def containing_Quarter(file_name):\n",
    "    return ('Q1' in file_name) or ('Q2' in file_name) or ('Q3' in file_name) or ('Q4' in file_name)"
   ]
  },
  {
   "cell_type": "code",
   "execution_count": null,
   "metadata": {
    "scrolled": true
   },
   "outputs": [],
   "source": [
    "def getHTML(browser, startID=0, endID=company_list.shape[0], IDs = []):\n",
    "    \n",
    "    app=xw.App(visible=True,add_book=False)\n",
    "    # 將<path替換為你的檔案路徑>\n",
    "    wblist = app.books.open('<path>.xls')\n",
    "    shtlist = wblist.sheets[0]\n",
    "\n",
    "    first_half_XPath = '//*[@id=\"_transcriptsGrid__dataGrid\"]/tbody/tr['\n",
    "    last_half_XPath = ']/td[3]/span/a'\n",
    "    \n",
    "    #for i in IDs:  # 自己選擇要爬哪些ID\n",
    "    for i in range(startID, endID):\n",
    "\n",
    "        if not company_list[\"transcript\"][i]:\n",
    "            continue\n",
    "        \n",
    "        shtlist.cells(i+2,1).value = 1\n",
    "\n",
    "        # Get the IQID and ID of current company\n",
    "        #\n",
    "        # e.g. IQID of company \"3Com Corporation\" is IQ24107\n",
    "        #      ID   of company \"3Com Corporation\" is 3\n",
    "        #\n",
    "        company_IQID = company_list[\"ExcelCompanyID\"][i][2:]\n",
    "        company_ID = company_list[\"id\"][i]\n",
    "\n",
    "        # Get the href of summary of all transcripts of current company\n",
    "        #\n",
    "        # e.g. https://www.capitaliq.com/CIQDotNet/Transcripts/Summary.aspx?companyId=24107\n",
    "        #\n",
    "        company_href = transcripts_Summary_href + \"?companyId=\" + str(company_IQID)\n",
    "\n",
    "        # Go to that href\n",
    "        browser.get(company_href)\n",
    "        time.sleep(8)\n",
    "        \n",
    "        # Recheck if this company has no transcript\n",
    "        table_length = len(browser.find_elements_by_xpath('//*[@id=\"_transcriptsGrid__dataGrid\"]/tbody/tr'))    \n",
    "        if table_length == 1:\n",
    "            shtlist.cells(i+2,1).value = 0\n",
    "            continue\n",
    "\n",
    "        # Get the total number of transcript \n",
    "        #\n",
    "        # e.g. Extract \"14\" from \"Viewing 1-14 of 14\"\n",
    "        #\n",
    "        all_trans_numbers = None\n",
    "        try:\n",
    "            all_trans_numbers_XPath = first_half_XPath + str(table_length) + ']/td'\n",
    "            all_trans_numbers = browser.find_element_by_xpath(all_trans_numbers_XPath).text\n",
    "            all_trans_numbers = int(all_trans_numbers.split()[3])\n",
    "        except:\n",
    "            shtlist.cells(i+2,1).value = 0\n",
    "            print(company_ID, \"found no number\")\n",
    "            continue\n",
    "\n",
    "        # Click 'View All' botton if it exist\n",
    "        try:\n",
    "            browser.find_element_by_link_text('View All').click()\n",
    "\n",
    "            # 有時候 View All 還沒跑完就開始拉資料了，所以等一下，\n",
    "            # 因為 transcripts 越多就要等越久，\n",
    "            # 所以這裡我設需要等 (all_trans_numbers / 10) 秒\n",
    "            time.sleep(all_trans_numbers / 10)\n",
    "        except:\n",
    "            pass\n",
    "\n",
    "\n",
    "        # Get all of the hrefs and names of transcipts of company\n",
    "        all_transcipts_href = []\n",
    "        all_transcipts_name = []\n",
    "        table_length = len(browser.find_elements_by_xpath('//*[@id=\"_transcriptsGrid__dataGrid\"]/tbody/tr'))\n",
    "        for j in range(2, table_length):\n",
    "\n",
    "            full_XPath = first_half_XPath + str(j) + last_half_XPath\n",
    "\n",
    "            try:\n",
    "                page_href = browser.find_element_by_xpath(full_XPath).get_attribute('href')\n",
    "                name = browser.find_element_by_xpath(full_XPath).text\n",
    "                \n",
    "                if(containing_Quarter(name)):\n",
    "                    all_transcipts_name.append(name)\n",
    "                    all_transcipts_href.append(page_href)\n",
    "            except:\n",
    "                pass\n",
    "\n",
    "        #print(all_trans_numbers, len(all_transcipts_href))\n",
    "        \n",
    "        # Check for missing transcipts \n",
    "        # 因為有些 transcipts 還沒被放上去只有文字標題，\n",
    "        # 但是它還是被算在 all_trans_numbers 裡面，\n",
    "        # 所以選擇 >10 確保沒有遺失 transcipts\n",
    "        if all_trans_numbers - len(all_transcipts_href) > 10:\n",
    "            print(\"not retrieve all trans in id :\", company_ID)\n",
    "\n",
    "        filepath = os.path.join('transcripts', str(company_ID))\n",
    "        # Check if the folder exists. If not, create one\n",
    "        if not os.path.exists(filepath):\n",
    "            os.mkdir(filepath)\n",
    "\n",
    "        for j in range(len(all_transcipts_href)):\n",
    "\n",
    "            browser.get(all_transcipts_href[j])\n",
    "            html = browser.page_source\n",
    "\n",
    "            filename = os.path.join(filepath, all_transcipts_name[j].replace('/', '_')) + '.html'\n",
    "            #print(filename)\n",
    "            \n",
    "            try:\n",
    "                f = open(filename, \"w\", encoding=\"utf-8\")\n",
    "                f.write(str(BeautifulSoup(html, 'html.parser').prettify()))\n",
    "                f.close()\n",
    "\n",
    "            except:\n",
    "                f.close()\n",
    "                pass\n",
    "            \n",
    "        if len(all_transcipts_href) != len(os.listdir(filepath)):\n",
    "            print(len(all_transcipts_href) - len(os.listdir(filepath)), \\\n",
    "                    \"transcript missed for id :\", company_ID)"
   ]
  },
  {
   "cell_type": "code",
   "execution_count": null,
   "metadata": {},
   "outputs": [],
   "source": [
    "browser = getBrowser(username = \"<your account>\", password = \"<your password>\")\n",
    "\n",
    "# Waiting for logging\n",
    "time.sleep(10)\n",
    "\n",
    "getHTML(browser)"
   ]
  },
  {
   "cell_type": "code",
   "execution_count": null,
   "metadata": {},
   "outputs": [],
   "source": []
  }
 ],
 "metadata": {
  "kernelspec": {
   "display_name": "Python 3",
   "language": "python",
   "name": "python3"
  },
  "language_info": {
   "codemirror_mode": {
    "name": "ipython",
    "version": 3
   },
   "file_extension": ".py",
   "mimetype": "text/x-python",
   "name": "python",
   "nbconvert_exporter": "python",
   "pygments_lexer": "ipython3",
   "version": "3.6.4"
  }
 },
 "nbformat": 4,
 "nbformat_minor": 4
}
